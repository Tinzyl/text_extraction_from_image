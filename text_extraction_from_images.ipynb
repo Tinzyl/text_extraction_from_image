{
  "nbformat": 4,
  "nbformat_minor": 0,
  "metadata": {
    "colab": {
      "name": "text_extraction_from_images.ipynb",
      "provenance": []
    },
    "kernelspec": {
      "name": "python3",
      "display_name": "Python 3"
    },
    "language_info": {
      "name": "python"
    }
  },
  "cells": [
    {
      "cell_type": "code",
      "execution_count": 3,
      "metadata": {
        "id": "1YZVFc7tlt8V"
      },
      "outputs": [],
      "source": [
        "# import requests to install tesseract\n",
        "import requests"
      ]
    },
    {
      "cell_type": "code",
      "source": [
        "# Download tesseract\n",
        "r = requests.get(\"https://raw.githubusercontent.com/tesseract-ocr/tessdata/4.00/ind.traineddata\", stream=True)\n",
        "\n",
        "# Writing data to file to avoid path issues\n",
        "with open(\"/usr/share/tesseract-ocr/4.00/tessdata/ind.traineddata\", \"wb\") as file:\n",
        "  for block in r.iter_content(chunk_size = 1024):\n",
        "    if block:\n",
        "      file.write(block)"
      ],
      "metadata": {
        "id": "2nl3Z59eoegC"
      },
      "execution_count": 5,
      "outputs": []
    },
    {
      "cell_type": "code",
      "source": [
        "# Install OCR Required Libraries\n",
        "! apt install tesseract-ocr libtesseract-dev libmagickwand-dev\n",
        "\n",
        "# Importing IPython to clear output which is not important\n",
        "from IPython.display import HTML, clear_output\n",
        "clear_output()"
      ],
      "metadata": {
        "id": "sMu5s21wpqVO"
      },
      "execution_count": 6,
      "outputs": []
    },
    {
      "cell_type": "code",
      "source": [
        "# Install pytesseract and opencv\n",
        "! pip install pytesseract wand opencv-python\n",
        "clear_output()"
      ],
      "metadata": {
        "id": "f9rlvDgPrPIo"
      },
      "execution_count": 7,
      "outputs": []
    },
    {
      "cell_type": "code",
      "source": [
        "# Import necessary libraries\n",
        "from PIL import Image\n",
        "import pytesseract\n",
        "import cv2\n",
        "import numpy as np\n",
        "from pytesseract import Output\n",
        "import re"
      ],
      "metadata": {
        "id": "tT1LH9WBrrfm"
      },
      "execution_count": 8,
      "outputs": []
    },
    {
      "cell_type": "code",
      "source": [
        "# Reading image from url\n",
        "image = Image.open(requests.get(\"https://az721511.vo.msecnd.net/images/3c16ab5b-b839-4e2e-b8ee-61a4b456b1ba.png\", stream=True).raw)\n",
        "image = image.resize((300, 150))\n",
        "image.save('sample.png')\n",
        "image"
      ],
      "metadata": {
        "colab": {
          "base_uri": "https://localhost:8080/",
          "height": 167
        },
        "id": "R25u1d8YsCCv",
        "outputId": "4e8562cf-1b07-4c6d-e2e8-40d6718d5c3e"
      },
      "execution_count": 10,
      "outputs": [
        {
          "output_type": "execute_result",
          "data": {
            "image/png": "[encoded data removed]",
            "text/plain": [
              "<PIL.Image.Image image mode=P size=300x150 at 0x7F450A4F8150>"
            ]
          },
          "metadata": {},
          "execution_count": 10
        }
      ]
    },
    {
      "cell_type": "code",
      "source": [
        "# Extract the text\n",
        "custom_config = r'-l eng --oem 3 --psm 6'\n",
        "text = pytesseract.image_to_string(image, config=custom_config)\n",
        "print(text)"
      ],
      "metadata": {
        "colab": {
          "base_uri": "https://localhost:8080/"
        },
        "id": "6W2uGANft37n",
        "outputId": "a557de49-1ccc-4e5f-c050-bb8e8179795e"
      },
      "execution_count": 13,
      "outputs": [
        {
          "output_type": "stream",
          "name": "stdout",
          "text": [
            "Text HF010\n",
            "ORT AW OLR uM aT Stat}\n",
            "and SAVE 10%\n",
            "\f\n"
          ]
        }
      ]
    },
    {
      "cell_type": "code",
      "source": [
        "# Remove irrelevant characters\n",
        "try:\n",
        "  text = pytesseract.image_to_string(image, lang=\"eng\")\n",
        "  characters_to_remove = \"!()@-*>+-/{},|$#&^_~\"\n",
        "  new_string = text\n",
        "  for character in characters_to_remove:\n",
        "    new_string = new_string.replace(character, \"\")\n",
        "  print(new_string)\n",
        "except IOError as e:\n",
        "  print(\"Error (%s).\" % e)"
      ],
      "metadata": {
        "colab": {
          "base_uri": "https://localhost:8080/"
        },
        "id": "HvAeJlS5uZlA",
        "outputId": "faa7ab34-69a2-454a-be6d-23f1f9799e9a"
      },
      "execution_count": 19,
      "outputs": [
        {
          "output_type": "stream",
          "name": "stdout",
          "text": [
            "Text HF010\n",
            "\n",
            "ORT AW OLR uM aT Stat\n",
            "and SAVE 10%\n",
            "\n",
            " \n",
            "\f\n"
          ]
        }
      ]
    },
    {
      "cell_type": "code",
      "source": [
        "# Peroform opencv operations\n",
        "image = cv2.imread('sample.png')"
      ],
      "metadata": {
        "id": "3aWODm6Mvhcf"
      },
      "execution_count": 20,
      "outputs": []
    },
    {
      "cell_type": "code",
      "source": [
        "# get grayscale image\n",
        "def get_grayscale(image):\n",
        "  return cv2.cvtColor(image, cv2.COLOR_BGR2GRAY)\n",
        "gray = get_grayscale(image)\n",
        "Image.fromarray(gray)"
      ],
      "metadata": {
        "colab": {
          "base_uri": "https://localhost:8080/",
          "height": 167
        },
        "id": "eYQapNVgwCPp",
        "outputId": "8cc1fc82-b106-47d5-ad9e-61c9698a4342"
      },
      "execution_count": 21,
      "outputs": [
        {
          "output_type": "execute_result",
          "data": {
            "image/png": "[encoded data removed]",
            "text/plain": [
              "<PIL.Image.Image image mode=L size=300x150 at 0x7F45065B6F10>"
            ]
          },
          "metadata": {},
          "execution_count": 21
        }
      ]
    },
    {
      "cell_type": "code",
      "source": [
        "# Remove noise\n",
        "def remove_noise(image):\n",
        "  return cv2.medianBlur(image, 5)\n",
        "noise = remove_noise(gray)\n",
        "Image.fromarray(gray)"
      ],
      "metadata": {
        "colab": {
          "base_uri": "https://localhost:8080/",
          "height": 167
        },
        "id": "pexPS291wbWy",
        "outputId": "d1239264-26e8-4086-9326-703703bc6791"
      },
      "execution_count": 22,
      "outputs": [
        {
          "output_type": "execute_result",
          "data": {
            "image/png": "[encoded data removed]",
            "text/plain": [
              "<PIL.Image.Image image mode=L size=300x150 at 0x7F45064C93D0>"
            ]
          },
          "metadata": {},
          "execution_count": 22
        }
      ]
    },
    {
      "cell_type": "code",
      "source": [
        "# Perform Threshold transformation\n",
        "def thresholding(image):\n",
        "  return cv2.threshold(image, 0, 255, cv2.TRESH_BINARY + cv2.THRESH_OTSU)[1]\n",
        "  thresh = thresholding(gray)\n",
        "  Image.fromarray(thresh)"
      ],
      "metadata": {
        "id": "LqOlh2tqwzou"
      },
      "execution_count": 23,
      "outputs": []
    },
    {
      "cell_type": "code",
      "source": [
        "# erosion\n",
        "def erode(image):\n",
        "  kernel = np.ones((5,5),np.uint8)\n",
        "  return cv2.erode(image, kernel, iterations=1)\n",
        "erode = erode(gray)\n",
        "Image.fromarray(erode)"
      ],
      "metadata": {
        "colab": {
          "base_uri": "https://localhost:8080/",
          "height": 167
        },
        "id": "nPfXT9ZOxP4D",
        "outputId": "f9c7a516-a14d-4402-e316-1426ae5c1f8a"
      },
      "execution_count": 25,
      "outputs": [
        {
          "output_type": "execute_result",
          "data": {
            "image/png": "[encoded data removed]",
            "text/plain": [
              "<PIL.Image.Image image mode=L size=300x150 at 0x7F45063BCBD0>"
            ]
          },
          "metadata": {},
          "execution_count": 25
        }
      ]
    },
    {
      "cell_type": "code",
      "source": [
        "# Morphology\n",
        "def opening(image):\n",
        "  kernel = np.ones((5,5), np.uint8)\n",
        "  return cv2.morphologyEx(image, cv2.MORPH_OPEN, kernel)\n",
        "opening = opening(gray)\n",
        "Image.fromarray(opening)"
      ],
      "metadata": {
        "colab": {
          "base_uri": "https://localhost:8080/",
          "height": 167
        },
        "id": "vgkvk0MTxtjL",
        "outputId": "31e31cd5-119c-49fd-fbd8-b6b0d63bee3d"
      },
      "execution_count": 26,
      "outputs": [
        {
          "output_type": "execute_result",
          "data": {
            "image/png": "[encoded data removed]",
            "text/plain": [
              "<PIL.Image.Image image mode=L size=300x150 at 0x7F4506376F50>"
            ]
          },
          "metadata": {},
          "execution_count": 26
        }
      ]
    },
    {
      "cell_type": "code",
      "source": [
        "# Canny Edge Detection\n",
        "def canny(image):\n",
        "  return cv2.Canny(image, 100, 200)\n",
        "canny = canny(gray)\n",
        "Image.fromarray(canny)"
      ],
      "metadata": {
        "colab": {
          "base_uri": "https://localhost:8080/",
          "height": 167
        },
        "id": "6lH50U0lyHPF",
        "outputId": "f8a02795-0299-4eed-8d37-feccce762d12"
      },
      "execution_count": 27,
      "outputs": [
        {
          "output_type": "execute_result",
          "data": {
            "image/png": "[encoded data removed]",
            "text/plain": [
              "<PIL.Image.Image image mode=L size=300x150 at 0x7F45064EF450>"
            ]
          },
          "metadata": {},
          "execution_count": 27
        }
      ]
    },
    {
      "cell_type": "code",
      "source": [
        "# Skew Correction\n",
        "def deskew(image):\n",
        "  coords = np.column_stack(np.where(image > 0))\n",
        "  angle = cv2.minAreaRect(coords)[-1]\n",
        "  if angle < -45:\n",
        "    angle = -(90 + angle)\n",
        "  else:\n",
        "    angle = -angle\n",
        "  (h, w) = image.shape[:2]\n",
        "  center = (w // 2, h // 2)\n",
        "  M = cv2.getRotationMatrix2D(center, angle, 1.0)\n",
        "  rotated = cv2.warpAffine(image, M, (w, h), flags=cv2.INTER_CUBIC, borderMode=cv2.BORDER_REPLICATE)\n",
        "  return rotated\n",
        "rotated = deskew(gray)\n",
        "Image.fromarray(rotated)"
      ],
      "metadata": {
        "colab": {
          "base_uri": "https://localhost:8080/",
          "height": 167
        },
        "id": "K1uSnFb0yX5A",
        "outputId": "4764762e-8c1a-4975-f6c5-e0419dff62e4"
      },
      "execution_count": 28,
      "outputs": [
        {
          "output_type": "execute_result",
          "data": {
            "image/png": "[encoded data removed]",
            "text/plain": [
              "<PIL.Image.Image image mode=L size=300x150 at 0x7F450637B290>"
            ]
          },
          "metadata": {},
          "execution_count": 28
        }
      ]
    },
    {
      "cell_type": "code",
      "source": [
        "# template matching\n",
        "def match_template(image, template):\n",
        "  return cv2.matchTemplate(image, template, cv2.TM_CCOEFF_NORMED)\n",
        "match = match_template(gray, gray)\n",
        "match"
      ],
      "metadata": {
        "colab": {
          "base_uri": "https://localhost:8080/"
        },
        "id": "xWP4ZZaBzP07",
        "outputId": "5d7ec13f-fee1-4f77-a7de-62b1186ebb24"
      },
      "execution_count": 30,
      "outputs": [
        {
          "output_type": "execute_result",
          "data": {
            "text/plain": [
              "array([[1.]], dtype=float32)"
            ]
          },
          "metadata": {},
          "execution_count": 30
        }
      ]
    },
    {
      "cell_type": "code",
      "source": [
        "# Draw Rectangle around text\n",
        "img = cv2.imread('sample.png')\n",
        "h, w, c = img.shape\n",
        "boxes = pytesseract.image_to_boxes(img)\n",
        "for b in boxes.splitlines():\n",
        "  b = b.split(' ')\n",
        "  img = cv2.rectangle(img, (int(b[1]), h - int(b[2])), (int(b[3]), h - int(b[4])), (0, 255, 0), 2)\n",
        "Image.fromarray(img)"
      ],
      "metadata": {
        "colab": {
          "base_uri": "https://localhost:8080/",
          "height": 167
        },
        "id": "uPh9OmSZz7QM",
        "outputId": "45378f62-045e-4d92-e993-398acd30d74c"
      },
      "execution_count": 31,
      "outputs": [
        {
          "output_type": "execute_result",
          "data": {
            "image/png": "[encoded data removed]",
            "text/plain": [
              "<PIL.Image.Image image mode=RGB size=300x150 at 0x7F450656F110>"
            ]
          },
          "metadata": {},
          "execution_count": 31
        }
      ]
    },
    {
      "cell_type": "code",
      "source": [
        "# Draw pattern on specific pattern or word\n",
        "img = cv2.imread('sample.png')\n",
        "d = pytesseract.image_to_data(img, output_type=Output.DICT)\n",
        "keys = list(d.keys())\n",
        "\n",
        "date_pattern = 'artificially'\n",
        "\n",
        "n_boxes = len(d['text'])\n",
        "for i in range(n_boxes):\n",
        "  if int(d['conf'][i]) > 60:\n",
        "    if re.match(date_pattern, d['text'][i]):\n",
        "      (x, y, w, h) = (d['left'][i], d['top'][i], d['width'][i], d['height'][i])\n",
        "      img = cv2.rectangle(img, (x, y), (x + w, y + h), (0, 255, 0), 2)\n",
        "Image.fromarray(img)"
      ],
      "metadata": {
        "colab": {
          "base_uri": "https://localhost:8080/",
          "height": 167
        },
        "id": "2ReTqgoG0_tq",
        "outputId": "b2fd1d7a-81ee-4f2e-a46c-4d0c2336226b"
      },
      "execution_count": 32,
      "outputs": [
        {
          "output_type": "execute_result",
          "data": {
            "image/png": "[encoded data removed]",
            "text/plain": [
              "<PIL.Image.Image image mode=RGB size=300x150 at 0x7F45064EF350>"
            ]
          },
          "metadata": {},
          "execution_count": 32
        }
      ]
    },
    {
      "cell_type": "code",
      "source": [
        ""
      ],
      "metadata": {
        "id": "_y29NR6D2jaL"
      },
      "execution_count": null,
      "outputs": []
    }
  ]
}